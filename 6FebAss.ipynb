{
 "cells": [
  {
   "cell_type": "markdown",
   "id": "17a30403",
   "metadata": {},
   "source": [
    "Create a function which will take at least as an argument and return the product of all the members of the creating a flat list\n",
    "Use the below given list as an argument for your function\n",
    "List1=[1, 2, 3, 4,[44, 55, 66, true], false, (34,56,78,89,34),{1,2,3,3,2,1},{1:34,\"key2\":[55 67, 78, 89],4:(45, 22, 61, 34)},[56,\"data science \"],'machine learning']"
   ]
  },
  {
   "cell_type": "code",
   "execution_count": 1,
   "id": "59910663",
   "metadata": {},
   "outputs": [
    {
     "name": "stdout",
     "output_type": "stream",
     "text": [
      "Product of all members in List1: 0\n"
     ]
    }
   ],
   "source": [
    "def product_of_list(lst):\n",
    "    result = 1\n",
    "    for item in lst:\n",
    "        if isinstance(item, list):\n",
    "            result *= product_of_list(item)\n",
    "        elif isinstance(item, (int, float)):\n",
    "            result *= item\n",
    "    return result\n",
    "\n",
    "List1 = [1, 2, 3, 4, [44, 55, 66, True], False, (34, 56, 78, 89, 34), {1, 2, 3, 3, 2, 1},\n",
    "         {1: 34, \"key2\": [55, 67, 78, 89], 4: (45, 22, 61, 34)}, [56, \"data science \"], 'machine learning']\n",
    "\n",
    "print(\"Product of all members in List1:\", product_of_list(List1))\n"
   ]
  },
  {
   "cell_type": "code",
   "execution_count": null,
   "id": "6e54546e",
   "metadata": {},
   "outputs": [],
   "source": []
  },
  {
   "cell_type": "code",
   "execution_count": 4,
   "id": "91e044b5",
   "metadata": {},
   "outputs": [
    {
     "name": "stdout",
     "output_type": "stream",
     "text": [
      "Encrypted message: i$wznt$to$yexome$z$dztz$sxientist\n"
     ]
    }
   ],
   "source": [
    "def encrypt_message(message):\n",
    "    encrypted_message = \"\"\n",
    "    for char in message:\n",
    "        if char == 'a':\n",
    "            encrypted_message += 'z'\n",
    "        elif char == 'b':\n",
    "            encrypted_message += 'y'\n",
    "        elif char == 'c':\n",
    "            encrypted_message += 'x'\n",
    "        elif char == ' ':\n",
    "            encrypted_message += '$'\n",
    "        else:\n",
    "            encrypted_message += char\n",
    "    return encrypted_message.lower()\n",
    "\n",
    "input_sentence = \"I want to become a data scientist\"\n",
    "encrypted_sentence = encrypt_message(input_sentence.lower())\n",
    "print(\"Encrypted message:\", encrypted_sentence)\n"
   ]
  },
  {
   "cell_type": "code",
   "execution_count": null,
   "id": "8e4e9505",
   "metadata": {},
   "outputs": [],
   "source": []
  },
  {
   "cell_type": "code",
   "execution_count": null,
   "id": "08014a03",
   "metadata": {},
   "outputs": [],
   "source": []
  },
  {
   "cell_type": "code",
   "execution_count": null,
   "id": "fd2e45f1",
   "metadata": {},
   "outputs": [],
   "source": []
  },
  {
   "cell_type": "code",
   "execution_count": null,
   "id": "128cbb46",
   "metadata": {},
   "outputs": [],
   "source": []
  }
 ],
 "metadata": {
  "kernelspec": {
   "display_name": "Python 3 (ipykernel)",
   "language": "python",
   "name": "python3"
  },
  "language_info": {
   "codemirror_mode": {
    "name": "ipython",
    "version": 3
   },
   "file_extension": ".py",
   "mimetype": "text/x-python",
   "name": "python",
   "nbconvert_exporter": "python",
   "pygments_lexer": "ipython3",
   "version": "3.10.9"
  }
 },
 "nbformat": 4,
 "nbformat_minor": 5
}
