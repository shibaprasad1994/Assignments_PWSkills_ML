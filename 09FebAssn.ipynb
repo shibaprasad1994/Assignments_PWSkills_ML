{
 "cells": [
  {
   "cell_type": "code",
   "execution_count": 1,
   "id": "adecca72",
   "metadata": {},
   "outputs": [],
   "source": [
    "class Vehicle:\n",
    "    def __init__(self, name_of_vehicle, max_speed, average_of_vehicle):\n",
    "        self.name_of_vehicle = name_of_vehicle\n",
    "        self.max_speed = max_speed\n",
    "        self.average_of_vehicle = average_of_vehicle\n"
   ]
  },
  {
   "cell_type": "code",
   "execution_count": 2,
   "id": "82a16590",
   "metadata": {},
   "outputs": [],
   "source": [
    "class Car(Vehicle):\n",
    "    def __init__(self, name_of_vehicle, max_speed, average_of_vehicle):\n",
    "        super().__init__(name_of_vehicle, max_speed, average_of_vehicle)\n",
    "    \n",
    "    def seating_capacity(self, capacity):\n",
    "        return f\"{self.name_of_vehicle} has a seating capacity of {capacity} people.\"\n"
   ]
  },
  {
   "cell_type": "code",
   "execution_count": 6,
   "id": "1bbb6242",
   "metadata": {},
   "outputs": [
    {
     "name": "stdout",
     "output_type": "stream",
     "text": [
      "Vehicle Details:\n",
      "Name: Shiv ka Vehicle\n",
      "Max Speed: 100 km/h\n",
      "Average: 30 km/l\n",
      "\n",
      "Car Details:\n",
      "Name: MyCar\n",
      "Max Speed: 120 km/h\n",
      "Average: 25 km/l\n",
      "MyCar has a seating capacity of 5 people.\n"
     ]
    }
   ],
   "source": [
    "#for eg\n",
    "vehicle1 = Vehicle(\"Shiv ka Vehicle\", 100, 30)\n",
    "car1 = Car(\"MyCar\", 120, 25)\n",
    "\n",
    "print(\"Vehicle Details:\")\n",
    "print(f\"Name: {vehicle1.name_of_vehicle}\")\n",
    "print(f\"Max Speed: {vehicle1.max_speed} km/h\")\n",
    "print(f\"Average: {vehicle1.average_of_vehicle} km/l\")\n",
    "\n",
    "print(\"\\nCar Details:\")\n",
    "print(f\"Name: {car1.name_of_vehicle}\")\n",
    "print(f\"Max Speed: {car1.max_speed} km/h\")\n",
    "print(f\"Average: {car1.average_of_vehicle} km/l\")\n",
    "\n",
    "# Seating capacity example\n",
    "print(car1.seating_capacity(5))"
   ]
  },
  {
   "cell_type": "markdown",
   "id": "18294713",
   "metadata": {},
   "source": [
    "Multiple inheritance is a feature in object-oriented programming where a class can inherit attributes and methods from more than one parent class. It allows a subclass to inherit from multiple superclasses.\n"
   ]
  },
  {
   "cell_type": "code",
   "execution_count": 7,
   "id": "2c1e0822",
   "metadata": {},
   "outputs": [
    {
     "name": "stdout",
     "output_type": "stream",
     "text": [
      "Method from Parent1\n",
      "Method from Parent2\n"
     ]
    }
   ],
   "source": [
    "class Parent1:\n",
    "    def method1(self):\n",
    "        print(\"Method from Parent1\")\n",
    "\n",
    "\n",
    "class Parent2:\n",
    "    def method2(self):\n",
    "        print(\"Method from Parent2\")\n",
    "\n",
    "\n",
    "class Child(Parent1, Parent2):\n",
    "    pass\n",
    "\n",
    "\n",
    "obj = Child()\n",
    "obj.method1()\n",
    "obj.method2()"
   ]
  },
  {
   "cell_type": "markdown",
   "id": "ed4bdf7a",
   "metadata": {},
   "source": [
    "Method overriding in Python occurs when a subclass defines a method with the same name as a method in its superclass. The method in the subclass overrides the method in the superclass. This allows a subclass to provide a specific implementation of a method that is already defined in its superclass.\n"
   ]
  },
  {
   "cell_type": "code",
   "execution_count": 8,
   "id": "c87f4d57",
   "metadata": {},
   "outputs": [
    {
     "name": "stdout",
     "output_type": "stream",
     "text": [
      "Child method\n"
     ]
    }
   ],
   "source": [
    "class Parent:\n",
    "    def show(self):\n",
    "        print(\"Parent method\")\n",
    "\n",
    "\n",
    "class Child(Parent):\n",
    "    def show(self):\n",
    "        print(\"Child method\")\n",
    "\n",
    "\n",
    "obj = Child()\n",
    "obj.show() \n"
   ]
  },
  {
   "cell_type": "code",
   "execution_count": null,
   "id": "a001fbd1",
   "metadata": {},
   "outputs": [],
   "source": []
  }
 ],
 "metadata": {
  "kernelspec": {
   "display_name": "Python 3 (ipykernel)",
   "language": "python",
   "name": "python3"
  },
  "language_info": {
   "codemirror_mode": {
    "name": "ipython",
    "version": 3
   },
   "file_extension": ".py",
   "mimetype": "text/x-python",
   "name": "python",
   "nbconvert_exporter": "python",
   "pygments_lexer": "ipython3",
   "version": "3.10.9"
  }
 },
 "nbformat": 4,
 "nbformat_minor": 5
}
