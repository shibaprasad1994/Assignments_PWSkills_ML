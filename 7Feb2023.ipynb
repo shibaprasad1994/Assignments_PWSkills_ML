{
 "cells": [
  {
   "cell_type": "code",
   "execution_count": 30,
   "id": "28d2a673",
   "metadata": {},
   "outputs": [
    {
     "name": "stdout",
     "output_type": "stream",
     "text": [
      "Enter the password: SHer@#$234\n",
      "Valid password\n"
     ]
    }
   ],
   "source": [
    "def check_password(password):\n",
    "    # Initialize counters for uppercase, lowercase, numbers, and special characters\n",
    "    upper_count = 0\n",
    "    lower_count = 0\n",
    "    digit_count = 0\n",
    "    special_count = 0\n",
    "    \n",
    "    # Check each character in the password\n",
    "    for char in password:\n",
    "        if char.isupper():\n",
    "            upper_count += 1\n",
    "        elif char.islower():\n",
    "            lower_count += 1\n",
    "        elif char.isdigit():\n",
    "            digit_count += 1\n",
    "        else:\n",
    "            special_count += 1\n",
    "    \n",
    "    # Check if all conditions are met\n",
    "    if (upper_count >= 2) and (lower_count >= 2) and (digit_count >= 1) and (special_count >= 3) and (len(password) == 10):\n",
    "        return \"Valid password\"\n",
    "    else:\n",
    "        return \"Invalid password\"\n",
    "\n",
    "# Test the function with a password\n",
    "password = input(\"Enter the password: \")\n",
    "print(check_password(password))\n"
   ]
  },
  {
   "cell_type": "markdown",
   "id": "b236426d",
   "metadata": {},
   "source": [
    "Q2"
   ]
  },
  {
   "cell_type": "markdown",
   "id": "08f267d7",
   "metadata": {},
   "source": [
    "Check if the string starts with a particular letter:"
   ]
  },
  {
   "cell_type": "code",
   "execution_count": 22,
   "id": "567dc46c",
   "metadata": {},
   "outputs": [
    {
     "name": "stdout",
     "output_type": "stream",
     "text": [
      "True\n"
     ]
    }
   ],
   "source": [
    "#lambda\n",
    "starts_with_letter = lambda string, letter: string.startswith(letter)\n",
    "print(starts_with_letter(\"hello\", \"h\")) \n"
   ]
  },
  {
   "cell_type": "markdown",
   "id": "3c537f8d",
   "metadata": {},
   "source": [
    "Check if the string is numeric:"
   ]
  },
  {
   "cell_type": "code",
   "execution_count": 23,
   "id": "49b71447",
   "metadata": {},
   "outputs": [
    {
     "name": "stdout",
     "output_type": "stream",
     "text": [
      "True\n"
     ]
    }
   ],
   "source": [
    "#lamda\n",
    "is_numeric = lambda string: string.isnumeric()\n",
    "print(is_numeric(\"123\"))  # Output: True\n"
   ]
  },
  {
   "cell_type": "markdown",
   "id": "2fefaa8a",
   "metadata": {},
   "source": [
    "Sort a list of tuples having fruit names and their quantity"
   ]
  },
  {
   "cell_type": "code",
   "execution_count": 24,
   "id": "c658d9ae",
   "metadata": {},
   "outputs": [
    {
     "name": "stdout",
     "output_type": "stream",
     "text": [
      "[('orange', 80), ('mango', 99), ('grapes', 1000)]\n"
     ]
    }
   ],
   "source": [
    "fruits = [('mango', 99), ('orange', 80), ('grapes', 1000)]\n",
    "sorted_fruits = sorted(fruits, key=lambda x: x[1])\n",
    "print(sorted_fruits)\n"
   ]
  },
  {
   "cell_type": "markdown",
   "id": "927dfd9b",
   "metadata": {},
   "source": [
    "Find the sequence of numbers from 1 to 10:"
   ]
  },
  {
   "cell_type": "code",
   "execution_count": 25,
   "id": "e8009ed0",
   "metadata": {},
   "outputs": [
    {
     "name": "stdout",
     "output_type": "stream",
     "text": [
      "[1, 2, 3, 4, 5, 6, 7, 8, 9, 10]\n"
     ]
    }
   ],
   "source": [
    "#Map function\n",
    "sequence = list(map(lambda x: x, range(1, 11)))\n",
    "print(sequence)\n"
   ]
  },
  {
   "cell_type": "markdown",
   "id": "bfec254b",
   "metadata": {},
   "source": [
    "Cube root"
   ]
  },
  {
   "cell_type": "code",
   "execution_count": 26,
   "id": "dd55549f",
   "metadata": {},
   "outputs": [
    {
     "name": "stdout",
     "output_type": "stream",
     "text": [
      "[1.0, 1.2599210498948732, 1.4422495703074083, 1.5874010519681994, 1.7099759466766968, 1.8171205928321397, 1.912931182772389, 2.0, 2.080083823051904, 2.154434690031884]\n"
     ]
    }
   ],
   "source": [
    "cuberoot = list(map(lambda x: x**(1/3), range(1, 11)))\n",
    "print(cuberoot)\n"
   ]
  },
  {
   "cell_type": "code",
   "execution_count": 27,
   "id": "48065ad7",
   "metadata": {},
   "outputs": [
    {
     "name": "stdout",
     "output_type": "stream",
     "text": [
      "False\n"
     ]
    }
   ],
   "source": [
    "#check if a no. is even  in lambda\n",
    "is_even = lambda num: num % 2 == 0\n",
    "print(is_even(5))  \n"
   ]
  },
  {
   "cell_type": "code",
   "execution_count": 28,
   "id": "492fb1ef",
   "metadata": {},
   "outputs": [
    {
     "name": "stdout",
     "output_type": "stream",
     "text": [
      "[1, 3, 5, 7, 9]\n"
     ]
    }
   ],
   "source": [
    "#filter the no is odd  no in 1 to 10\n",
    "odd_numbers = list(filter(lambda x: x % 2 != 0, range(1, 11)))\n",
    "print(odd_numbers)\n"
   ]
  },
  {
   "cell_type": "code",
   "execution_count": 29,
   "id": "8c029709",
   "metadata": {},
   "outputs": [
    {
     "name": "stdout",
     "output_type": "stream",
     "text": [
      "Positive: [1, 2, 3, 4, 5]\n",
      "Negative: [-1, -2, -3, -4, -5]\n"
     ]
    }
   ],
   "source": [
    "#Split list of integers into positive and negative integer lists (e.g., 1, 2, 3,4,5, -1, -2, -3,-4,-5)\n",
    "numbers = [1, 2, 3,4,5, -1, -2, -3,-4,-5, 0]\n",
    "positive_numbers = [num for num in numbers if num > 0]\n",
    "negative_numbers = [num for num in numbers if num < 0]\n",
    "print(\"Positive:\", positive_numbers)\n",
    "print(\"Negative:\", negative_numbers)"
   ]
  },
  {
   "cell_type": "code",
   "execution_count": null,
   "id": "e029547a",
   "metadata": {},
   "outputs": [],
   "source": []
  },
  {
   "cell_type": "code",
   "execution_count": null,
   "id": "ab70d1f2",
   "metadata": {},
   "outputs": [],
   "source": []
  },
  {
   "cell_type": "code",
   "execution_count": null,
   "id": "2c6c5733",
   "metadata": {},
   "outputs": [],
   "source": []
  },
  {
   "cell_type": "code",
   "execution_count": null,
   "id": "e89cfe9f",
   "metadata": {},
   "outputs": [],
   "source": []
  },
  {
   "cell_type": "code",
   "execution_count": null,
   "id": "ee7cd7de",
   "metadata": {},
   "outputs": [],
   "source": []
  },
  {
   "cell_type": "code",
   "execution_count": null,
   "id": "b9712da9",
   "metadata": {},
   "outputs": [],
   "source": []
  },
  {
   "cell_type": "code",
   "execution_count": null,
   "id": "862a838f",
   "metadata": {},
   "outputs": [],
   "source": []
  },
  {
   "cell_type": "code",
   "execution_count": null,
   "id": "d2f300d4",
   "metadata": {},
   "outputs": [],
   "source": []
  }
 ],
 "metadata": {
  "kernelspec": {
   "display_name": "Python 3 (ipykernel)",
   "language": "python",
   "name": "python3"
  },
  "language_info": {
   "codemirror_mode": {
    "name": "ipython",
    "version": 3
   },
   "file_extension": ".py",
   "mimetype": "text/x-python",
   "name": "python",
   "nbconvert_exporter": "python",
   "pygments_lexer": "ipython3",
   "version": "3.10.9"
  }
 },
 "nbformat": 4,
 "nbformat_minor": 5
}
