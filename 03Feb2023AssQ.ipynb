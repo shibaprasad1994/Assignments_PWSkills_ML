{
 "cells": [
  {
   "cell_type": "markdown",
   "id": "5af16a55",
   "metadata": {},
   "source": [
    "Q1. Which keyword is used to create a function? Create a function to return a list of odd numbers in the\n",
    "range of 1 to 25.\n"
   ]
  },
  {
   "cell_type": "markdown",
   "id": "e47e2954",
   "metadata": {},
   "source": [
    "function in Python is def."
   ]
  },
  {
   "cell_type": "code",
   "execution_count": 2,
   "id": "0f965f9c",
   "metadata": {},
   "outputs": [
    {
     "name": "stdout",
     "output_type": "stream",
     "text": [
      "[1, 3, 5, 7, 9, 11, 13, 15, 17, 19, 21, 23, 25]\n"
     ]
    }
   ],
   "source": [
    "def odd_numbers():\n",
    "    odd_nums = [num for num in range(1, 26) if num % 2 != 0]\n",
    "    return odd_nums\n",
    "\n",
    "print(odd_numbers())\n"
   ]
  },
  {
   "cell_type": "markdown",
   "id": "4ad75957",
   "metadata": {},
   "source": [
    "Q2. Why *args and **kwargs is used in some functions? Create a function each for *args and **kwargs to\n",
    "demonstrate their use."
   ]
  },
  {
   "cell_type": "markdown",
   "id": "02321483",
   "metadata": {},
   "source": [
    "A)*args and **kwargs are used in functions to accept a variable number of arguments and keyword arguments respectively"
   ]
  },
  {
   "cell_type": "code",
   "execution_count": 3,
   "id": "ad7eacac",
   "metadata": {},
   "outputs": [
    {
     "name": "stdout",
     "output_type": "stream",
     "text": [
      "1\n",
      "2\n",
      "3\n",
      "4\n",
      "5\n",
      "a: 1\n",
      "b: 2\n",
      "c: 3\n"
     ]
    }
   ],
   "source": [
    "def args_function(*args):\n",
    "    for arg in args:\n",
    "        print(arg)\n",
    "\n",
    "def kwargs_function(**kwargs):\n",
    "    for key, value in kwargs.items():\n",
    "        print(f\"{key}: {value}\")\n",
    "\n",
    "args_function(1, 2, 3, 4, 5)\n",
    "kwargs_function(a=1, b=2, c=3)"
   ]
  },
  {
   "cell_type": "markdown",
   "id": "180644c3",
   "metadata": {},
   "source": [
    "Q3. What is an iterator in python? Name the method used to initialise the iterator object and the method\n",
    "used for iteration. Use these methods to print the first five elements of the given list [2, 4, 6, 8, 10, 12, 14, 16,\n",
    "18, 20]."
   ]
  },
  {
   "cell_type": "markdown",
   "id": "1e64e9ca",
   "metadata": {},
   "source": [
    "A) An iterator in Python is an object that allows iteration over a sequence of elements. The method used to initialize an iterator object is iter() and the method used for iteration is next()."
   ]
  },
  {
   "cell_type": "code",
   "execution_count": 4,
   "id": "124569a3",
   "metadata": {},
   "outputs": [
    {
     "name": "stdout",
     "output_type": "stream",
     "text": [
      "2\n",
      "4\n",
      "6\n",
      "8\n",
      "10\n"
     ]
    }
   ],
   "source": [
    "my_list = [2, 4, 6, 8, 10, 12, 14, 16, 18, 20]\n",
    "my_iterator = iter(my_list)\n",
    "\n",
    "for _ in range(5):\n",
    "    print(next(my_iterator))\n"
   ]
  },
  {
   "cell_type": "markdown",
   "id": "ef009008",
   "metadata": {},
   "source": [
    "Q4. What is a generator function in python? Why yield keyword is used? Give an example of a generator\n",
    "function."
   ]
  },
  {
   "cell_type": "markdown",
   "id": "611c79c8",
   "metadata": {},
   "source": [
    "A)A generator function in Python is a function that contains one or more yield statements. The yield keyword is used to yield values one at a time, suspending the function’s state in between each yield."
   ]
  },
  {
   "cell_type": "code",
   "execution_count": 6,
   "id": "23f43261",
   "metadata": {},
   "outputs": [
    {
     "name": "stdout",
     "output_type": "stream",
     "text": [
      "1\n",
      "2\n",
      "3\n"
     ]
    }
   ],
   "source": [
    "def my_generator():\n",
    "    yield 1\n",
    "    yield 2\n",
    "    yield 3\n",
    "\n",
    "gen = my_generator()\n",
    "print(next(gen)) \n",
    "print(next(gen)) \n",
    "print(next(gen))  \n"
   ]
  },
  {
   "cell_type": "markdown",
   "id": "632b15b2",
   "metadata": {},
   "source": [
    "5. Here's a generator function for prime numbers less than 1000, and using the next() method to print the first 20 prime numbers:"
   ]
  },
  {
   "cell_type": "code",
   "execution_count": 7,
   "id": "956e12d6",
   "metadata": {},
   "outputs": [
    {
     "name": "stdout",
     "output_type": "stream",
     "text": [
      "2\n",
      "3\n",
      "5\n",
      "7\n",
      "11\n",
      "13\n",
      "17\n",
      "19\n",
      "23\n",
      "29\n",
      "31\n",
      "37\n",
      "41\n",
      "43\n",
      "47\n",
      "53\n",
      "59\n",
      "61\n",
      "67\n",
      "71\n"
     ]
    }
   ],
   "source": [
    "def is_prime(n):\n",
    "    if n <= 1:\n",
    "        return False\n",
    "    for i in range(2, int(n**0.5) + 1):\n",
    "        if n % i == 0:\n",
    "            return False\n",
    "    return True\n",
    "\n",
    "def prime_generator():\n",
    "    num = 2\n",
    "    while True:\n",
    "        if is_prime(num):\n",
    "            yield num\n",
    "        num += 1\n",
    "\n",
    "prime_gen = prime_generator()\n",
    "for _ in range(20):\n",
    "    print(next(prime_gen))\n"
   ]
  },
  {
   "cell_type": "code",
   "execution_count": null,
   "id": "3f921938",
   "metadata": {},
   "outputs": [],
   "source": []
  }
 ],
 "metadata": {
  "kernelspec": {
   "display_name": "Python 3 (ipykernel)",
   "language": "python",
   "name": "python3"
  },
  "language_info": {
   "codemirror_mode": {
    "name": "ipython",
    "version": 3
   },
   "file_extension": ".py",
   "mimetype": "text/x-python",
   "name": "python",
   "nbconvert_exporter": "python",
   "pygments_lexer": "ipython3",
   "version": "3.10.9"
  }
 },
 "nbformat": 4,
 "nbformat_minor": 5
}
