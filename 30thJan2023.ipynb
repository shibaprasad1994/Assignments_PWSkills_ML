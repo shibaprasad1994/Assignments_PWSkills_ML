{
 "cells": [
  {
   "cell_type": "code",
   "execution_count": 4,
   "id": "9f0c72aa",
   "metadata": {},
   "outputs": [
    {
     "name": "stdout",
     "output_type": "stream",
     "text": [
      "Enter the percentage: 81\n",
      "Grade: Grade B\n"
     ]
    }
   ],
   "source": [
    "def calculate_grade(percentage):\n",
    "    if percentage > 90:\n",
    "        return \"Grade A\"\n",
    "    elif percentage >= 80:\n",
    "        return \"Grade B\"\n",
    "    elif percentage >= 60:\n",
    "        return \"Grade C\"\n",
    "    else:\n",
    "        return \"Grade D\"\n",
    "\n",
    "percentage = float(input(\"Enter the percentage: \"))\n",
    "grade = calculate_grade(percentage)\n",
    "print(\"Grade:\", grade)\n"
   ]
  },
  {
   "cell_type": "markdown",
   "id": "73739984",
   "metadata": {},
   "source": [
    "Q2"
   ]
  },
  {
   "cell_type": "code",
   "execution_count": 7,
   "id": "ab35029c",
   "metadata": {},
   "outputs": [
    {
     "name": "stdout",
     "output_type": "stream",
     "text": [
      "Enter the cost price of the bike: 100004\n",
      "Road tax to be paid: Rs 15000.599999999999\n"
     ]
    }
   ],
   "source": [
    "def calculate_road_tax(cost_price):\n",
    "    if cost_price > 100000:\n",
    "        return cost_price * 0.15\n",
    "    elif cost_price > 50000:\n",
    "        return cost_price * 0.10\n",
    "    else:\n",
    "        return cost_price * 0.05\n",
    "\n",
    "cost_price = float(input(\"Enter the cost price of the bike: \"))\n",
    "road_tax = calculate_road_tax(cost_price)\n",
    "print(\"Road tax to be paid: Rs\", road_tax)\n"
   ]
  },
  {
   "cell_type": "markdown",
   "id": "7f3ea84a",
   "metadata": {},
   "source": [
    "Q3"
   ]
  },
  {
   "cell_type": "code",
   "execution_count": 10,
   "id": "7908dcb6",
   "metadata": {},
   "outputs": [
    {
     "name": "stdout",
     "output_type": "stream",
     "text": [
      "Enter a city: Agra\n",
      "Monument in Agra: Taj Mahal\n"
     ]
    }
   ],
   "source": [
    "city_monuments = {\n",
    "    \"Delhi\": \"Red Fort\",\n",
    "    \"Agra\": \"Taj Mahal\",\n",
    "    \"Jaipur\": \"Jal Mahal\"\n",
    "}\n",
    "\n",
    "city = input(\"Enter a city: \")\n",
    "\n",
    "if city in city_monuments:\n",
    "    print(\"Monument in\", city + \":\", city_monuments[city])\n",
    "else:\n",
    "    print(\"Monument information not available for\", city)\n"
   ]
  },
  {
   "cell_type": "markdown",
   "id": "bffdd6a3",
   "metadata": {},
   "source": [
    "Q4"
   ]
  },
  {
   "cell_type": "code",
   "execution_count": null,
   "id": "cd9a9a89",
   "metadata": {},
   "outputs": [],
   "source": [
    "number = int(input(\"Enter a number: \"))\n",
    "count = 0\n",
    "\n",
    "while number > 10:\n",
    "    number /= 3\n",
    "    count += 1\n",
    "\n",
    "print(\"The given number can be divided by 3\", count, \"times before it is less than or equal to 10.\")\n"
   ]
  },
  {
   "cell_type": "markdown",
   "id": "9e8c0aaf",
   "metadata": {},
   "source": [
    "Q5"
   ]
  },
  {
   "cell_type": "markdown",
   "id": "a7ff6b5b",
   "metadata": {},
   "source": [
    "The while loop in Python is used to execute a block of code repeatedly as long as a specified condition is true. It's useful when you need to repeat a task based on certain conditions, and you may not know in advance how many times the loop will run.\n",
    "\n",
    "for eg:\n"
   ]
  },
  {
   "cell_type": "code",
   "execution_count": 16,
   "id": "aa312c9a",
   "metadata": {},
   "outputs": [
    {
     "name": "stdout",
     "output_type": "stream",
     "text": [
      "Enter your age: 121\n",
      "Invalid age. Please enter a valid age.\n",
      "Enter your age: -1\n",
      "Invalid age. Please enter a valid age.\n",
      "Enter your age: 0\n"
     ]
    }
   ],
   "source": [
    "while True:\n",
    "    age = int(input(\"Enter your age: \"))\n",
    "    if age >= 0 and age <= 120:\n",
    "        break\n",
    "    else:\n",
    "        print(\"Invalid age. Please enter a valid age.\")\n"
   ]
  },
  {
   "cell_type": "markdown",
   "id": "b1fa06c3",
   "metadata": {},
   "source": [
    "Q6\n",
    "Use nested while loop to print three different pattern"
   ]
  },
  {
   "cell_type": "code",
   "execution_count": 17,
   "id": "51d24c82",
   "metadata": {},
   "outputs": [
    {
     "name": "stdout",
     "output_type": "stream",
     "text": [
      "* \n",
      "* * \n",
      "* * * \n",
      "* * * * \n",
      "* * * * * \n",
      "\n"
     ]
    }
   ],
   "source": [
    "# Pattern 1\n",
    "row = 1\n",
    "while row <= 5:\n",
    "    col = 1\n",
    "    while col <= row:\n",
    "        print(\"*\", end=\" \")\n",
    "        col += 1\n",
    "    print()\n",
    "    row += 1\n",
    "\n",
    "print()"
   ]
  },
  {
   "cell_type": "code",
   "execution_count": 18,
   "id": "fa77837e",
   "metadata": {},
   "outputs": [
    {
     "name": "stdout",
     "output_type": "stream",
     "text": [
      "& & & & & \n",
      "& & & & \n",
      "& & & \n",
      "& & \n",
      "& \n",
      "\n"
     ]
    }
   ],
   "source": [
    "row = 5\n",
    "while row >= 1:\n",
    "    col = 1\n",
    "    while col <= row:\n",
    "        print(\"&\", end=\" \")\n",
    "        col += 1\n",
    "    print()\n",
    "    row -= 1\n",
    "\n",
    "print()"
   ]
  },
  {
   "cell_type": "code",
   "execution_count": 19,
   "id": "cf9fe1eb",
   "metadata": {},
   "outputs": [
    {
     "name": "stdout",
     "output_type": "stream",
     "text": [
      "# # # # # \n",
      "# # # # \n",
      "# # # \n",
      "# # \n",
      "# \n"
     ]
    }
   ],
   "source": [
    "row = 1\n",
    "while row <= 5:\n",
    "    col = 5\n",
    "    while col >= row:\n",
    "        print(\"#\", end=\" \")\n",
    "        col -= 1\n",
    "    print()\n",
    "    row += 1"
   ]
  },
  {
   "cell_type": "code",
   "execution_count": 22,
   "id": "584d38cc",
   "metadata": {},
   "outputs": [
    {
     "name": "stdout",
     "output_type": "stream",
     "text": [
      "* * * * \n",
      "* * * * \n",
      "* * * * \n",
      "* * * * \n",
      "* * * * \n",
      "* * * * \n"
     ]
    }
   ],
   "source": [
    "i = 0\n",
    "while i < row:\n",
    "    j = 0\n",
    "    while j < col:\n",
    "        print(\"*\", end=\" \")\n",
    "        j += 1\n",
    "    print()\n",
    "    i += 1"
   ]
  },
  {
   "cell_type": "markdown",
   "id": "a93cb6ab",
   "metadata": {},
   "source": [
    "Q7 Reverse of wild loop to display number of 10 to 1"
   ]
  },
  {
   "cell_type": "code",
   "execution_count": 23,
   "id": "148b6cd5",
   "metadata": {},
   "outputs": [
    {
     "name": "stdout",
     "output_type": "stream",
     "text": [
      "10\n",
      "9\n",
      "8\n",
      "7\n",
      "6\n",
      "5\n",
      "4\n",
      "3\n",
      "2\n",
      "1\n"
     ]
    }
   ],
   "source": [
    "number = 10\n",
    "while number >= 1:\n",
    "    print(number)\n",
    "    number -= 1\n"
   ]
  },
  {
   "cell_type": "markdown",
   "id": "e080d219",
   "metadata": {},
   "source": [
    "Q8 with for"
   ]
  },
  {
   "cell_type": "code",
   "execution_count": 24,
   "id": "f0879c1c",
   "metadata": {},
   "outputs": [
    {
     "name": "stdout",
     "output_type": "stream",
     "text": [
      "10\n",
      "9\n",
      "8\n",
      "7\n",
      "6\n",
      "5\n",
      "4\n",
      "3\n",
      "2\n",
      "1\n"
     ]
    }
   ],
   "source": [
    "for number in range(10, 0, -1):\n",
    "    print(number)\n"
   ]
  },
  {
   "cell_type": "code",
   "execution_count": null,
   "id": "2e616c8b",
   "metadata": {},
   "outputs": [],
   "source": []
  }
 ],
 "metadata": {
  "kernelspec": {
   "display_name": "Python 3 (ipykernel)",
   "language": "python",
   "name": "python3"
  },
  "language_info": {
   "codemirror_mode": {
    "name": "ipython",
    "version": 3
   },
   "file_extension": ".py",
   "mimetype": "text/x-python",
   "name": "python",
   "nbconvert_exporter": "python",
   "pygments_lexer": "ipython3",
   "version": "3.10.9"
  }
 },
 "nbformat": 4,
 "nbformat_minor": 5
}
